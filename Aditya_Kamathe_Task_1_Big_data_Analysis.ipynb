{
  "nbformat": 4,
  "nbformat_minor": 0,
  "metadata": {
    "colab": {
      "provenance": []
    },
    "kernelspec": {
      "name": "python3",
      "display_name": "Python 3"
    },
    "language_info": {
      "name": "python"
    }
  },
  "cells": [
    {
      "cell_type": "code",
      "execution_count": 1,
      "metadata": {
        "colab": {
          "base_uri": "https://localhost:8080/"
        },
        "id": "7vKUE9LISZ4k",
        "outputId": "e6c79d45-c0a4-4236-8a1f-a327846eebb8"
      },
      "outputs": [
        {
          "output_type": "stream",
          "name": "stdout",
          "text": [
            "Requirement already satisfied: pyspark in /usr/local/lib/python3.11/dist-packages (3.5.1)\n",
            "Requirement already satisfied: py4j==0.10.9.7 in /usr/local/lib/python3.11/dist-packages (from pyspark) (0.10.9.7)\n"
          ]
        }
      ],
      "source": [
        "pip install pyspark"
      ]
    },
    {
      "cell_type": "code",
      "source": [
        "from pyspark.sql import SparkSession\n",
        "\n",
        "spark = SparkSession.builder.appName(\"InstagramAnalysis\").getOrCreate()"
      ],
      "metadata": {
        "id": "cvaQsbqpTDCD"
      },
      "execution_count": 2,
      "outputs": []
    },
    {
      "cell_type": "code",
      "source": [
        "df = spark.read.csv(\"/content/drive/MyDrive/task data set/Instagram data.csv\", header=True, inferSchema=True)\n",
        "df.printSchema()\n",
        "df.show(5)"
      ],
      "metadata": {
        "colab": {
          "base_uri": "https://localhost:8080/"
        },
        "id": "Fqfp0H6lTHeE",
        "outputId": "c4bb7e5c-6a44-4bdc-a9ff-9910ae463930"
      },
      "execution_count": 3,
      "outputs": [
        {
          "output_type": "stream",
          "name": "stdout",
          "text": [
            "root\n",
            " |-- Impressions: integer (nullable = true)\n",
            " |-- From Home: integer (nullable = true)\n",
            " |-- From Hashtags: integer (nullable = true)\n",
            " |-- From Explore: integer (nullable = true)\n",
            " |-- From Other: integer (nullable = true)\n",
            " |-- Saves: integer (nullable = true)\n",
            " |-- Comments: integer (nullable = true)\n",
            " |-- Shares: integer (nullable = true)\n",
            " |-- Likes: integer (nullable = true)\n",
            " |-- Profile Visits: integer (nullable = true)\n",
            " |-- Follows: integer (nullable = true)\n",
            " |-- Caption: string (nullable = true)\n",
            " |-- Hashtags: string (nullable = true)\n",
            "\n",
            "+-----------+---------+-------------+------------+----------+-----+--------+------+-----+--------------+-------+--------------------+--------------------+\n",
            "|Impressions|From Home|From Hashtags|From Explore|From Other|Saves|Comments|Shares|Likes|Profile Visits|Follows|             Caption|            Hashtags|\n",
            "+-----------+---------+-------------+------------+----------+-----+--------+------+-----+--------------+-------+--------------------+--------------------+\n",
            "|       3920|     2586|         1028|         619|        56|   98|       9|     5|  162|            35|      2|Here are some of ...|#finance�#money�#...|\n",
            "|       5394|     2727|         1838|        1174|        78|  194|       7|    14|  224|            48|     10|Here are some of ...|#healthcare�#heal...|\n",
            "|       4021|     2085|         1188|           0|       533|   41|      11|     1|  131|            62|     12|Learn how to trai...|#data�#datascienc...|\n",
            "|       4528|     2700|          621|         932|        73|  172|      10|     7|  213|            23|      8|Here�s how you ca...|#python�#pythonpr...|\n",
            "|       2518|     1704|          255|         279|        37|   96|       5|     4|  123|             8|      0|Plotting annotati...|#datavisualizatio...|\n",
            "+-----------+---------+-------------+------------+----------+-----+--------+------+-----+--------------+-------+--------------------+--------------------+\n",
            "only showing top 5 rows\n",
            "\n"
          ]
        }
      ]
    },
    {
      "cell_type": "code",
      "source": [
        "# Show summary statistics\n",
        "df.describe().show()\n",
        "\n",
        "# Count of nulls per column\n",
        "from pyspark.sql.functions import col, isnan, when, count\n",
        "\n",
        "df.select([count(when(col(c).isNull(), c)).alias(c) for c in df.columns]).show()"
      ],
      "metadata": {
        "colab": {
          "base_uri": "https://localhost:8080/"
        },
        "id": "i8occPv4TqZK",
        "outputId": "f96c6188-6f07-42cf-9199-12e02ecc9206"
      },
      "execution_count": 4,
      "outputs": [
        {
          "output_type": "stream",
          "name": "stdout",
          "text": [
            "+-------+-----------------+------------------+------------------+------------------+-----------------+------------------+-----------------+-----------------+------------------+------------------+------------------+--------------------+--------------------+\n",
            "|summary|      Impressions|         From Home|     From Hashtags|      From Explore|       From Other|             Saves|         Comments|           Shares|             Likes|    Profile Visits|           Follows|             Caption|            Hashtags|\n",
            "+-------+-----------------+------------------+------------------+------------------+-----------------+------------------+-----------------+-----------------+------------------+------------------+------------------+--------------------+--------------------+\n",
            "|  count|              119|               119|               119|               119|              119|               119|              119|              119|               119|               119|               119|                 119|                 119|\n",
            "|   mean|5703.991596638655|2475.7899159663866|1887.5126050420167|1078.1008403361345|171.0924369747899| 153.3109243697479|6.663865546218488|9.361344537815127|173.78151260504202|50.621848739495796|20.756302521008404|                NULL|                NULL|\n",
            "| stddev|4843.780104765142|1489.3863477213715|1884.3614431866783| 2613.026131904585|289.4310313208804|156.31773096881875|3.544576451292469|10.08920474637055|  82.3789465929277| 87.08840157035044|40.921579899449476|                NULL|                NULL|\n",
            "|    min|             1941|              1133|               116|                 0|                9|                22|                0|                0|                72|                 4|                 0|170 Python Projec...|#career�#job�#job...|\n",
            "|    max|            36919|             13473|             11817|             17414|             2547|              1095|               19|               75|               549|               611|               260|You must have see...|#timeseries�#time...|\n",
            "+-------+-----------------+------------------+------------------+------------------+-----------------+------------------+-----------------+-----------------+------------------+------------------+------------------+--------------------+--------------------+\n",
            "\n",
            "+-----------+---------+-------------+------------+----------+-----+--------+------+-----+--------------+-------+-------+--------+\n",
            "|Impressions|From Home|From Hashtags|From Explore|From Other|Saves|Comments|Shares|Likes|Profile Visits|Follows|Caption|Hashtags|\n",
            "+-----------+---------+-------------+------------+----------+-----+--------+------+-----+--------------+-------+-------+--------+\n",
            "|          0|        0|            0|           0|         0|    0|       0|     0|    0|             0|      0|      0|       0|\n",
            "+-----------+---------+-------------+------------+----------+-----+--------+------+-----+--------------+-------+-------+--------+\n",
            "\n"
          ]
        }
      ]
    },
    {
      "cell_type": "code",
      "source": [
        "df.orderBy(df.Likes.desc()).select(\"Caption\", \"Likes\", \"Impressions\").show(5, truncate=False)"
      ],
      "metadata": {
        "colab": {
          "base_uri": "https://localhost:8080/"
        },
        "id": "q6LjymdqT8jz",
        "outputId": "58603ede-56f3-475a-c254-76b2a7dfba1e"
      },
      "execution_count": 5,
      "outputs": [
        {
          "output_type": "stream",
          "name": "stdout",
          "text": [
            "+------------------------------------------------------------------------------------------------------------------------------------------------------------------------------------------------------------------------------------------------------------------------------------------------------------------------------+-----+-----------+\n",
            "|Caption                                                                                                                                                                                                                                                                                                                       |Likes|Impressions|\n",
            "+------------------------------------------------------------------------------------------------------------------------------------------------------------------------------------------------------------------------------------------------------------------------------------------------------------------------------+-----+-----------+\n",
            "|Here are some of the best data science certifications that you can choose from in 2022.                                                                                                                                                                                                                                       |549  |32695      |\n",
            "|175 Python Projects with Source Code solved and explained for free: Link in Bio                                                                                                                                                                                                                                               |443  |36919      |\n",
            "|280 Machine Learning Projects Solved & Explained using Python programming language: Link in Bio                                                                                                                                                                                                                               |416  |16062      |\n",
            "|Here is a list of 100+ Machine Learning Algorithms and Models explained using Python that will help you to understand the implementation of all the machine learning algorithms and models in solving real-time business problems. You can find this list of 100+ Machine Learning Algorithms and Models from the link in bio.|416  |17396      |\n",
            "|Here are some of the best data science certifications that you can choose from in 2022.                                                                                                                                                                                                                                       |373  |13700      |\n",
            "+------------------------------------------------------------------------------------------------------------------------------------------------------------------------------------------------------------------------------------------------------------------------------------------------------------------------------+-----+-----------+\n",
            "only showing top 5 rows\n",
            "\n"
          ]
        }
      ]
    },
    {
      "cell_type": "code",
      "source": [
        "from pyspark.ml.stat import Correlation\n",
        "from pyspark.ml.feature import VectorAssembler\n",
        "\n",
        "vec_assembler = VectorAssembler(inputCols=[\"Likes\", \"Follows\"], outputCol=\"features\")\n",
        "df_vector = vec_assembler.transform(df).select(\"features\")\n",
        "\n",
        "correlation = Correlation.corr(df_vector, \"features\").head()[0]\n",
        "print(f\"Correlation Matrix:\\n{correlation}\")\n"
      ],
      "metadata": {
        "colab": {
          "base_uri": "https://localhost:8080/"
        },
        "id": "7Di7sa6AUByb",
        "outputId": "401e82ad-d9bd-4bd1-aed5-6829bfb34249"
      },
      "execution_count": 6,
      "outputs": [
        {
          "output_type": "stream",
          "name": "stdout",
          "text": [
            "Correlation Matrix:\n",
            "DenseMatrix([[1.        , 0.74633317],\n",
            "             [0.74633317, 1.        ]])\n"
          ]
        }
      ]
    },
    {
      "cell_type": "code",
      "source": [
        "df.select(\"Impressions\", \"Likes\", \"Shares\", \"Follows\", \"Profile Visits\").groupBy().avg().show()\n"
      ],
      "metadata": {
        "colab": {
          "base_uri": "https://localhost:8080/"
        },
        "id": "jofM9lmoUF9b",
        "outputId": "eb505994-9a32-4571-e6e4-7b6417df73fe"
      },
      "execution_count": 7,
      "outputs": [
        {
          "output_type": "stream",
          "name": "stdout",
          "text": [
            "+-----------------+------------------+-----------------+------------------+-------------------+\n",
            "| avg(Impressions)|        avg(Likes)|      avg(Shares)|      avg(Follows)|avg(Profile Visits)|\n",
            "+-----------------+------------------+-----------------+------------------+-------------------+\n",
            "|5703.991596638655|173.78151260504202|9.361344537815127|20.756302521008404| 50.621848739495796|\n",
            "+-----------------+------------------+-----------------+------------------+-------------------+\n",
            "\n"
          ]
        }
      ]
    },
    {
      "cell_type": "code",
      "source": [
        "from pyspark.sql.functions import explode, split, lower, trim\n",
        "\n",
        "hashtags_split = df.withColumn(\"Hashtag\", explode(split(col(\"Hashtags\"), \"#\")))\n",
        "hashtags_clean = hashtags_split.withColumn(\"Hashtag\", trim(lower(col(\"Hashtag\"))))\n",
        "hashtags_clean.groupBy(\"Hashtag\").count().orderBy(\"count\", ascending=False).show(10, truncate=False)"
      ],
      "metadata": {
        "colab": {
          "base_uri": "https://localhost:8080/"
        },
        "id": "lzthQLFFUKnz",
        "outputId": "aee2b12f-227c-4b7d-e3fa-31506cb701a6"
      },
      "execution_count": 8,
      "outputs": [
        {
          "output_type": "stream",
          "name": "stdout",
          "text": [
            "+-----------------------+-----+\n",
            "|Hashtag                |count|\n",
            "+-----------------------+-----+\n",
            "|                       |119  |\n",
            "|python�                |109  |\n",
            "|amankharwal�           |107  |\n",
            "|machinelearning�       |96   |\n",
            "|pythonprogramming�     |95   |\n",
            "|datascience�           |94   |\n",
            "|ai�                    |91   |\n",
            "|artificialintelligence�|89   |\n",
            "|data�                  |88   |\n",
            "|dataanalytics�         |87   |\n",
            "+-----------------------+-----+\n",
            "only showing top 10 rows\n",
            "\n"
          ]
        }
      ]
    },
    {
      "cell_type": "code",
      "source": [
        "df_summary = df.select(\"Caption\", \"Likes\", \"Impressions\")\n",
        "df_summary.write.csv(\"insights_output\", header=True)\n"
      ],
      "metadata": {
        "id": "fHx4s5DqUP1D"
      },
      "execution_count": 9,
      "outputs": []
    }
  ]
}